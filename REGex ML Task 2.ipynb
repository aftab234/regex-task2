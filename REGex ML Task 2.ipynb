{
 "cells": [
  {
   "cell_type": "markdown",
   "id": "259aa87c",
   "metadata": {},
   "source": [
    "# #Task-2\n",
    "### Name: Aftab Ahmed\n",
    "### Registration ID: SIRSS2310\n"
   ]
  },
  {
   "cell_type": "markdown",
   "id": "520b6ca6",
   "metadata": {},
   "source": [
    "#### Q1. Write a lambda expression to extract first word of a string."
   ]
  },
  {
   "cell_type": "code",
   "execution_count": 2,
   "id": "e6adbc20",
   "metadata": {},
   "outputs": [
    {
     "name": "stdout",
     "output_type": "stream",
     "text": [
      "hello this is aftab\n",
      "hello\n"
     ]
    }
   ],
   "source": [
    "l = lambda s: print([i for i in s.split() if i[0].isalpha()][0])\n",
    "l(input())"
   ]
  },
  {
   "cell_type": "markdown",
   "id": "5b256cdd",
   "metadata": {},
   "source": [
    "#### Q2. Write a function to extract first word of a string (with many words separated by space)."
   ]
  },
  {
   "cell_type": "code",
   "execution_count": 4,
   "id": "e5bf7bd4",
   "metadata": {},
   "outputs": [
    {
     "name": "stdout",
     "output_type": "stream",
     "text": [
      "what do you do?\n",
      "what\n"
     ]
    }
   ],
   "source": [
    "def firstWord1(str):\n",
    "    for i in str.split(\" \"):\n",
    "        if i[0].isalpha():\n",
    "            print(i)\n",
    "            break\n",
    "firstWord1(input())"
   ]
  },
  {
   "cell_type": "markdown",
   "id": "fc664f83",
   "metadata": {},
   "source": [
    "#### Q3. Extract the first word from every string from a list of strings by using map function."
   ]
  },
  {
   "cell_type": "code",
   "execution_count": 5,
   "id": "d591cb33",
   "metadata": {},
   "outputs": [
    {
     "name": "stdout",
     "output_type": "stream",
     "text": [
      "['Hi', 'This', 'We', 'We']\n"
     ]
    }
   ],
   "source": [
    "ls = ['Hi I am Aftab.', 'This is my friend, Sambit.', 'We are good friends.', '... We live in Bhubaneswar' ]\n",
    "fn = list(map(lambda s: [i for i in s.split() if i[0].isalpha()][0], ls))\n",
    "print(fn)"
   ]
  },
  {
   "cell_type": "markdown",
   "id": "58a07210",
   "metadata": {},
   "source": [
    "#### Q4. Write a function to return a list of prime factors of a given number."
   ]
  },
  {
   "cell_type": "code",
   "execution_count": 6,
   "id": "28649b29",
   "metadata": {},
   "outputs": [
    {
     "name": "stdout",
     "output_type": "stream",
     "text": [
      "Enter a number: 325618\n",
      "[2, 17, 61, 157]\n"
     ]
    }
   ],
   "source": [
    "def primeFactors(n):\n",
    "    ls=[]\n",
    "    while n%2 == 0:\n",
    "        ls.append(2)\n",
    "        n=n/2\n",
    "    for i in range(3,int(n**0.5)+1,2):\n",
    "        while n%i== 0:\n",
    "            ls.append(int(i))\n",
    "            n = n/i\n",
    "    if n > 2:\n",
    "        ls.append(int(n))\n",
    "    return ls\n",
    "num = int(input(\"Enter a number: \"))\n",
    "print(primeFactors(num))"
   ]
  },
  {
   "cell_type": "markdown",
   "id": "3c2c1545",
   "metadata": {},
   "source": [
    "#### Q5. Write a function that finds 2nd largest among 4 numbers (Repetitions are allowed, without sorting)."
   ]
  },
  {
   "cell_type": "code",
   "execution_count": 8,
   "id": "9e51354e",
   "metadata": {},
   "outputs": [
    {
     "name": "stdout",
     "output_type": "stream",
     "text": [
      "Enter the 4 numbers: 5\n",
      "Enter the 4 numbers: 6\n",
      "Enter the 4 numbers: 6\n",
      "Enter the 4 numbers: 8\n",
      "6\n"
     ]
    }
   ],
   "source": [
    "lst1 = []\n",
    "def second_largest(numbers):\n",
    "    mx=max(lst1[0],lst1[1])\n",
    "    secondmax=min(lst1[0],lst1[1])\n",
    "    n =len(lst1)\n",
    "    for i in range(2,n):\n",
    "        if lst1[i]>mx:\n",
    "            secondmax=mx\n",
    "            mx=lst1[i-1]\n",
    "        elif lst1[i]>secondmax and mx != lst1[i]:\n",
    "            secondmax=lst1[i]\n",
    "    return secondmax\n",
    "for i in range(0,4):\n",
    "    n = int(input(\"Enter the 4 numbers: \"))\n",
    "    lst1.append(n)\n",
    "print(second_largest(lst1))"
   ]
  }
 ],
 "metadata": {
  "kernelspec": {
   "display_name": "Python 3",
   "language": "python",
   "name": "python3"
  },
  "language_info": {
   "codemirror_mode": {
    "name": "ipython",
    "version": 3
   },
   "file_extension": ".py",
   "mimetype": "text/x-python",
   "name": "python",
   "nbconvert_exporter": "python",
   "pygments_lexer": "ipython3",
   "version": "3.8.8"
  }
 },
 "nbformat": 4,
 "nbformat_minor": 5
}
